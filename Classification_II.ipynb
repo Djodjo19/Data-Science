{
 "cells": [
  {
   "cell_type": "markdown",
   "metadata": {},
   "source": [
    "# Part I Examples "
   ]
  },
  {
   "cell_type": "markdown",
   "metadata": {},
   "source": [
    "## Example  01 "
   ]
  },
  {
   "cell_type": "code",
   "execution_count": 9,
   "metadata": {},
   "outputs": [
    {
     "name": "stdout",
     "output_type": "stream",
     "text": [
      "Accuracy is  87.3015873015873\n",
      "Accuracy is  85.71428571428571\n",
      "Accuracy is  79.36507936507937\n",
      "Accuracy is  87.3015873015873\n",
      "Accuracy is  82.53968253968253\n",
      "Accuracy is  82.25806451612904\n",
      "Accuracy is  83.87096774193549\n",
      "Accuracy is  83.87096774193549\n",
      "Accuracy is  79.03225806451613\n",
      "Accuracy is  82.25806451612904\n",
      "Average Accuracy is  83.35125448028674 %\n"
     ]
    }
   ],
   "source": [
    "#KNNClassifier\n",
    "        #IMPORT THE NECESSARY LIBRARY \n",
    "import numpy as np\n",
    "import pandas as pd\n",
    "from sklearn import preprocessing\n",
    "from sklearn.model_selection import train_test_split\n",
    "from sklearn.model_selection import KFold\n",
    "from sklearn.metrics import accuracy_score\n",
    "from sklearn.neighbors import KNeighborsClassifier\n",
    "\n",
    "# Load data \n",
    "Jogging_data=pd.read_csv('/home/depinfo/TD_DataMining/JoggingTitre.csv', sep=',')\n",
    "Jogging_data\n",
    "# Split data into train and test \n",
    "  # here we separate the features that we use, from the target variable whitch is the last column (Jogging)\n",
    "Y=Jogging_data['Jogging']\n",
    "  # features we use ( columns from 0 to 3)\n",
    "X=Jogging_data.drop(['Jogging'], axis=1)\n",
    "  # Convert categorical variable into dummy/indicator variables,it allows to create dummy variables for categorical features. \n",
    "X_dum=pd.get_dummies(X)\n",
    "\n",
    "#Create a classifier \n",
    "  #using the scikit learn KNeighborsClassifier function with this parameters to create our model \n",
    "    # n_neighbors : Number of neighbors to use by default \n",
    "    # metric : the distance metric to use for the tree, here we use the JaccardDistance\n",
    "model = KNeighborsClassifier(n_neighbors=3, metric='jaccard')\n",
    "# Fit function is used for training our model, Fit function adjusts weights according to data values to have better accuracy.\n",
    "model.fit(X_dum,Y)\n",
    "# After training, the model can be used for predictions, so we use for that predict function. \n",
    "model.predict([[0,0,1,0,1,0,0,1,0,1]])\n",
    "\n",
    "#Load the second dataset 'balance-scale.data'\n",
    "balance_data = pd.read_csv('/home/depinfo/TD_DataMining/balance-scale.data', sep= ',', header= None)\n",
    "  #Use shape to know the shape of the dataset \n",
    "balance_data.shape\n",
    "\n",
    "# Split data into train and test \n",
    "X = balance_data.values[:, 1:5] #features \n",
    "Y = balance_data.values[:,0] #target variable \n",
    "\n",
    "#  we indicate the number of folds we want our data set to be split into. Here, we have used 10 Fold, where the data will be split into 10 folds \n",
    "kfold = KFold(10, True, 10)\n",
    "#Initialise accuracy variable \n",
    "ac=0.0\n",
    "ac_score=0.0\n",
    "\n",
    "# using the scikit learn KNeighborsClassifier function with this parameters to create the model \n",
    "KNN=KNeighborsClassifier()\n",
    " \n",
    "#  the training and testing set changes in each iteration\n",
    "  #  So we print the indexes of the training and the testing sets in each iteration to see the process of K Fold\n",
    "for train, test in kfold.split(X):\n",
    "    X_train, X_test, y_train, y_test = X[train], X[test], Y[train], Y[test]\n",
    "    KNN.fit(X_train, y_train) #Training model \n",
    "    y_pred_en = KNN.predict(X_test) #make prediction \n",
    "    ac_score=accuracy_score(y_test,y_pred_en)*100 #compute the accuracy \n",
    "    ac=ac+ac_score \n",
    "    print (\"Accuracy is \", ac_score) #print the accuracy score \n",
    "\n",
    "#Compute the average accuracy \n",
    "ac_avg=ac/10\n",
    "#Print the average accuracy \n",
    "print (\"Average Accuracy is \", ac_avg,\"%\") \n"
   ]
  },
  {
   "cell_type": "markdown",
   "metadata": {},
   "source": [
    "# Part II Exercise"
   ]
  },
  {
   "cell_type": "markdown",
   "metadata": {},
   "source": [
    "## 01 ) compute the average accuracy of the K Nearest Neighbors Classifier"
   ]
  },
  {
   "cell_type": "markdown",
   "metadata": {},
   "source": [
    "### First dataset : tic-tac-toe.data"
   ]
  },
  {
   "cell_type": "code",
   "execution_count": 23,
   "metadata": {},
   "outputs": [
    {
     "name": "stdout",
     "output_type": "stream",
     "text": [
      "Accuracy is  89.58333333333334\n",
      "Accuracy is  87.5\n",
      "Accuracy is  88.54166666666666\n",
      "Accuracy is  89.58333333333334\n",
      "Accuracy is  85.41666666666666\n",
      "Accuracy is  81.25\n",
      "Accuracy is  91.66666666666666\n",
      "Accuracy is  84.375\n",
      "Accuracy is  81.05263157894737\n",
      "Accuracy is  86.31578947368422\n",
      "Tic tac toe Dataset : Average Accuracy using KNN is  86.52850877192982 %\n"
     ]
    }
   ],
   "source": [
    "import numpy as np\n",
    "import pandas as pd\n",
    "from sklearn import preprocessing\n",
    "from sklearn.model_selection import train_test_split\n",
    "from sklearn.model_selection import KFold\n",
    "from sklearn.metrics import accuracy_score\n",
    "\n",
    "\n",
    "tic_tac_data = pd.read_csv('/home/depinfo/TD_DataMining/tic-tac-toe.data', sep= ',', header= None)\n",
    "tic_tac_data.shape\n",
    "#Encoding the dataset, with replacing categorical data with numerical data \n",
    "tic_tac_data = tic_tac_data.replace({'x', 'o', 'b'}, {int(1), int(2), int(3)})\n",
    "\n",
    "X = tic_tac_data.values[:, 0:8]\n",
    "Y = tic_tac_data.values[:,9]\n",
    "\n",
    "kfold = KFold(10, True, 10)\n",
    "\n",
    "ac=0.0\n",
    "ac_score=0.0\n",
    "KNN=KNeighborsClassifier()\n",
    "for train, test in kfold.split(X):\n",
    "    X_train, X_test, y_train, y_test = X[train], X[test], Y[train], Y[test]\n",
    "    KNN.fit(X_train, y_train)\n",
    "    y_pred_en = KNN.predict(X_test)\n",
    "    ac_score=accuracy_score(y_test,y_pred_en)*100\n",
    "    ac=ac+ac_score\n",
    "    print (\"Accuracy is \", ac_score)\n",
    "ac_avg=ac/10\n",
    "print (\"Tic tac toe Dataset : Average Accuracy using KNN is \", ac_avg,\"%\")"
   ]
  },
  {
   "cell_type": "markdown",
   "metadata": {},
   "source": [
    "### Second dataset : car.data"
   ]
  },
  {
   "cell_type": "code",
   "execution_count": 24,
   "metadata": {},
   "outputs": [
    {
     "name": "stdout",
     "output_type": "stream",
     "text": [
      "Accuracy is  64.16184971098265\n",
      "Accuracy is  64.73988439306359\n",
      "Accuracy is  65.3179190751445\n",
      "Accuracy is  70.52023121387283\n",
      "Accuracy is  67.63005780346822\n",
      "Accuracy is  69.94219653179191\n",
      "Accuracy is  62.42774566473989\n",
      "Accuracy is  60.115606936416185\n",
      "Accuracy is  64.53488372093024\n",
      "Accuracy is  62.2093023255814\n",
      "Car Dataset : Average Accuracy using KNN is  65.15996773759913 %\n"
     ]
    }
   ],
   "source": [
    "import numpy as np\n",
    "import pandas as pd\n",
    "from sklearn import preprocessing\n",
    "from sklearn.model_selection import train_test_split\n",
    "from sklearn.model_selection import KFold\n",
    "from sklearn.metrics import accuracy_score\n",
    "\n",
    "\n",
    "\n",
    "car_data = pd.read_csv('/home/depinfo/TD_DataMining/car.data', sep= ',', header= None)\n",
    "car_data = car_data.replace({'low', 'med', 'high', 'vhigh','5more'}, {1,2,3,4,5})\n",
    "car_data = car_data.replace({'small','more','big',}, {1,3,5})\n",
    "\n",
    "Xc = car_data.values[:, 0:5]\n",
    "Yc = car_data.values[:, 6]\n",
    "\n",
    "kfold = KFold(10, True, 10)\n",
    "\n",
    "ac=0.0\n",
    "ac_score=0.0\n",
    "\n",
    "KNN=KNeighborsClassifier()\n",
    "\n",
    "for train, test in kfold.split(Xc):\n",
    "    Xc_train, Xc_test, yc_train, yc_test = Xc[train], Xc[test], Yc[train], Yc[test]\n",
    "    KNN.fit(Xc_train, yc_train)\n",
    "    yc_pred_en = KNN.predict(Xc_test)\n",
    "    ac_score=accuracy_score(yc_test,yc_pred_en)*100\n",
    "    ac=ac+ac_score\n",
    "    print (\"Accuracy is \", ac_score)\n",
    "ac_avg=ac/10\n",
    "print (\"Car Dataset : Average Accuracy using KNN is \", ac_avg,\"%\")"
   ]
  },
  {
   "cell_type": "markdown",
   "metadata": {},
   "source": [
    "## 2)  Compare the average accuracy of two classifiers "
   ]
  },
  {
   "cell_type": "code",
   "execution_count": 21,
   "metadata": {},
   "outputs": [
    {
     "name": "stdout",
     "output_type": "stream",
     "text": [
      "tic tac toe Dataset : Average Accuracy using decision tree classifier is  83.34393274853801 %\n",
      "Car dataset : Average Accuracy using decision tree classifier is   68.3447596003047 % \n",
      "\n"
     ]
    }
   ],
   "source": [
    "\n",
    "from sklearn.preprocessing import LabelEncoder \n",
    "import numpy as np\n",
    "import numpy as np\n",
    "import pandas as pd\n",
    "from sklearn.model_selection import train_test_split\n",
    "from sklearn.tree import DecisionTreeClassifier\n",
    "from sklearn.metrics import accuracy_score\n",
    "from sklearn import tree\n",
    "import matplotlib.pyplot as plt\n",
    "...\n",
    "from sklearn.model_selection import KFold\n",
    "import numpy as np\n",
    "...\n",
    "from sklearn.model_selection import KFold\n",
    "\n",
    "tic_tac_data = pd.read_csv('/home/depinfo/TD_DataMining/tic-tac-toe.data', sep= ',', header= None)\n",
    "#Encoding the dataset, with replacing categorical data with numerical data \n",
    "tic_tac_data = tic_tac_data.replace({'x', 'o', 'b'}, {int(1), int(2), int(3)})\n",
    "\n",
    "#split data\n",
    "X = tic_tac_data.values[:, 0:8]\n",
    "Y = tic_tac_data.values[:,9]\n",
    "\n",
    "car = pd.read_csv('/home/depinfo/TD_DataMining/car.data', sep= ',', header= None)\n",
    "car = car.replace({'low', 'med', 'high', 'vhigh','5more'}, {1,2,3,4,5})\n",
    "car = car.replace({'small','more','big',}, {1,3,5})\n",
    "\n",
    "Xc = car.values[:, 0:5]\n",
    "Yc = car.values[:, 6]\n",
    "\n",
    "X_train, X_test, y_train, y_test = train_test_split( X, Y, test_size = 0.3)\n",
    "Xc_train, Xc_test, yc_train, yc_test = train_test_split( Xc, Yc, test_size = 0.3)\n",
    "\n",
    "\n",
    "kfold = KFold(10, True, 10)\n",
    "\n",
    "\n",
    "ac_score = 0.0\n",
    "ac_score_car = 0.0\n",
    "ac = 0.0\n",
    "ac_car = 0.0\n",
    "for train, test in kfold.split(X):             \n",
    "    clf_entropy_tt = DecisionTreeClassifier(criterion =\"entropy\", min_samples_leaf=5)\n",
    "    clf_entropy_tt.fit(X_train, y_train)   \n",
    "    y_pred_en = clf_entropy_tt.predict(X_test) \n",
    "    ac_score=accuracy_score(y_test,y_pred_en)*100\n",
    "    X_train, X_test, y_train, y_test = X[train], X[test], Y[train], Y[test]\n",
    "    ac=ac+ac_score\n",
    "    ac_avg=ac/10\n",
    "    \n",
    "print (\"tic tac toe Dataset : Average Accuracy using decision tree classifier is \", ac_avg, \"%\")\n",
    " \n",
    "for train, test in kfold.split(Xc):\n",
    "    clf_entropy_car = DecisionTreeClassifier(criterion =\"entropy\",min_samples_leaf=5)\n",
    "    clf_entropy_car.fit(Xc_train, yc_train)\n",
    "    yc_pred_en = clf_entropy_car.predict(Xc_test)\n",
    "    ac_score_car=accuracy_score(yc_test,yc_pred_en)*100\n",
    "    Xc_train, Xc_test, yc_train, yc_test = Xc[train], Xc[test], Yc[train], Yc[test]\n",
    "    ac_car = ac_car + ac_score_car\n",
    "    ac_avg_car = ac_car/10\n",
    "\n",
    "        \n",
    "print (\"Car dataset : Average Accuracy using decision tree classifier is  \", ac_avg_car,\"% \\n\")\n",
    "\n",
    "\n"
   ]
  },
  {
   "cell_type": "code",
   "execution_count": null,
   "metadata": {},
   "outputs": [],
   "source": []
  }
 ],
 "metadata": {
  "kernelspec": {
   "display_name": "Python 3",
   "language": "python",
   "name": "python3"
  },
  "language_info": {
   "codemirror_mode": {
    "name": "ipython",
    "version": 3
   },
   "file_extension": ".py",
   "mimetype": "text/x-python",
   "name": "python",
   "nbconvert_exporter": "python",
   "pygments_lexer": "ipython3",
   "version": "3.7.3"
  }
 },
 "nbformat": 4,
 "nbformat_minor": 4
}
