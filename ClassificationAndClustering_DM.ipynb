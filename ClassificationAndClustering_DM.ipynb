{
 "cells": [
  {
   "cell_type": "markdown",
   "metadata": {},
   "source": [
    "# PART I"
   ]
  },
  {
   "cell_type": "markdown",
   "metadata": {},
   "source": [
    "## Exemple 01 "
   ]
  },
  {
   "cell_type": "code",
   "execution_count": null,
   "metadata": {},
   "outputs": [],
   "source": [
    "# EXEMPLE 01 : \n",
    "\n",
    "import numpy as np\n",
    "import pandas as pd\n",
    "from sklearn.model_selection import train_test_split \n",
    "from sklearn.tree import DecisionTreeClassifier\n",
    "from sklearn.metrics import accuracy_score\n",
    "from sklearn import tree\n",
    "\n",
    "#Use the pandas function \"read_csv\" to read the csv file, using this Parameters :\n",
    "   # - sep : to define the Delimiter to use  - header : None ( because there is no header in this csv file)\n",
    "balance_data = pd.read_csv('/home/depinfo/TD_DataMining/balance-scale.data', sep= ',', header= None) \n",
    "\n",
    "balance_data.shape # see what this dataset contains, here there is 625 rows and 5 columns \n",
    "\n",
    "# divide data : here we separate the features that we use, from the target variable whitch is the first column \n",
    "X = balance_data.values[:, 1:5] # from the column 1 to 5 : feautures \n",
    "Y = balance_data.values[:,0] #the column one contains the target variable, that means the prediction output of our model \n",
    "\n",
    "# Split the data into train data and test data, the fisrt one is use to train the model, and the second for test\n",
    "X_train, X_test, y_train, y_test = train_test_split( X, Y, test_size = 0.3) # we choose 30 % of data for test and 70% for train  \n",
    "\n",
    "# using the DecisionTreeClassifier function with this parameters to create our model \n",
    "        # criterion : use to measure the quality of split, here we use \"entropy\" for information gain, there is 2 types generally used: gini or entropy \n",
    "        # max_depth : max depth of the tree \n",
    "clf_entropy = DecisionTreeClassifier(criterion = \"entropy\", max_depth=3, min_samples_leaf=5)\n",
    "\n",
    "# fit is used for training phase, here we train our model to be able to do predections \n",
    "clf_entropy.fit(X_train, y_train)\n",
    "# predection phase :  we use fuction predict on our features test data to see the prediction output \n",
    "y_pred_en = clf_entropy.predict(X_test)\n",
    "#Accuracy of the model * 100 to have the poucentage of accuracy \n",
    "print (\"Accuracy is \", accuracy_score(y_test,y_pred_en)*100)"
   ]
  },
  {
   "cell_type": "markdown",
   "metadata": {},
   "source": [
    "## Exemple 02 "
   ]
  },
  {
   "cell_type": "code",
   "execution_count": 11,
   "metadata": {},
   "outputs": [
    {
     "data": {
      "text/plain": [
       "\"\\n    The difference between the two file is : in the Td2_dum01Name.pdf we have the name of the features \\n    because we added the parameter (feature_name) on the function tree.export_graphviz, that's why we \\n    have explicit name \\n    \\n\""
      ]
     },
     "execution_count": 11,
     "metadata": {},
     "output_type": "execute_result"
    }
   ],
   "source": [
    "# EXEMPLE 02 : \n",
    "\n",
    "import numpy as np\n",
    "...\n",
    "import graphviz\n",
    "Jogging_data=pd.read_csv('/home/depinfo/TD_DataMining/JoggingTitre.csv', sep=',')\n",
    "#Split data into y and x\n",
    "y=Jogging_data['Jogging']\n",
    "x=Jogging_data.drop(['Jogging'], axis=1)\n",
    "#Convert categorical variable into dummies/indicator variables (For each variable we take all its possible values)\n",
    "x_dum=pd.get_dummies(x)\n",
    "x_dum\n",
    "\n",
    "# partiel dummies : sub_dum=pd.get_dummies(x, columns=['Temps', 'Vent'])\n",
    "clf_entropy = DecisionTreeClassifier(criterion = \"entropy\")\n",
    "outputTree=clf_entropy.fit(x_dum, y)\n",
    "#export our decision tree into a graphic format\n",
    "dot_data = tree.export_graphviz(outputTree, out_file=None)\n",
    "graph = graphviz.Source(dot_data)\n",
    "#save it as td2_dum01 pdf file \n",
    "graph.render(\"Td2_dum01\")\n",
    "\n",
    "dot_data = tree.export_graphviz(outputTree, out_file=None, feature_names = x_dum.columns)\n",
    "graph = graphviz.Source(dot_data)\n",
    "graph.render(\"Td2_dum01Name\")\n",
    "#Check and compare the files Td2_dum01.pdf and Td2_dum01Name.pdf\n",
    "\"\"\"\n",
    "    The difference between the two file is : in the Td2_dum01Name.pdf we have the name of the features \n",
    "    because we added the parameter (feature_name) on the function tree.export_graphviz, that's why we \n",
    "    have explicit name \n",
    "    \n",
    "\"\"\""
   ]
  },
  {
   "cell_type": "code",
   "execution_count": 15,
   "metadata": {},
   "outputs": [
    {
     "name": "stdout",
     "output_type": "stream",
     "text": [
      "Accuracy is  74.60317460317461\n",
      "Accuracy is  74.60317460317461\n",
      "Accuracy is  79.36507936507937\n",
      "Accuracy is  85.71428571428571\n",
      "Accuracy is  77.77777777777779\n",
      "Accuracy is  75.80645161290323\n",
      "Accuracy is  82.25806451612904\n",
      "Accuracy is  80.64516129032258\n",
      "Accuracy is  72.58064516129032\n",
      "Accuracy is  74.19354838709677\n",
      "Average Accuracy is  77.7547363031234\n"
     ]
    }
   ],
   "source": [
    "# EXEMPLE 03 : \n",
    "import numpy as np\n",
    "...\n",
    "from sklearn.model_selection import KFold\n",
    "balance_data = pd.read_csv('/home/depinfo/TD_DataMining/balance-scale.data', sep= ',', header= None)\n",
    "#split data\n",
    "X = balance_data.values[:, 1:5]\n",
    "Y = balance_data.values[:,0]\n",
    "\n",
    "# Provides train/test indices to split data in train/test sets it Split dataset into k consecutive folds \n",
    "kfold = KFold(10, True, 10)\n",
    "#initialize accuracy and accuracy_score\n",
    "ac=0.0\n",
    "ac_score=0.0\n",
    "# Compute accuracy for the 10 flods \n",
    "for train, test in kfold.split(X):\n",
    "    X_train, X_test, y_train, y_test = X[train], X[test], Y[train], Y[test]\n",
    "    clf_entropy.fit(X_train, y_train)\n",
    "    y_pred_en = clf_entropy.predict(X_test)\n",
    "    ac_score=accuracy_score(y_test,y_pred_en)*100\n",
    "    ac=ac+ac_score\n",
    "    print (\"Accuracy is \", ac_score)\n",
    "#compute the average accuracy \n",
    "ac_avg=ac/10\n",
    "print (\"Average Accuracy is \", ac_avg)\n"
   ]
  },
  {
   "cell_type": "markdown",
   "metadata": {},
   "source": [
    "## Exemple 05 "
   ]
  },
  {
   "cell_type": "code",
   "execution_count": 131,
   "metadata": {
    "scrolled": true
   },
   "outputs": [
    {
     "data": {
      "image/png": "[encoded data removed]",
      "text/plain": [
       "<Figure size 720x504 with 1 Axes>"
      ]
     },
     "metadata": {
      "needs_background": "light"
     },
     "output_type": "display_data"
    }
   ],
   "source": [
    "#EXEMPLE 05\n",
    "import numpy as np\n",
    "import matplotlib\n",
    "import matplotlib.pyplot as plt\n",
    "from scipy.cluster.hierarchy import dendrogram, linkage\n",
    "\n",
    "#Define our dataset \n",
    "Y = np.array([[1], [2], [4], [7], [8], [10], [15],[17], [21]])\n",
    "#choose the linkage method \n",
    "linked = linkage(Y, 'single')\n",
    "#define the label list\n",
    "labelList = [[1], [2], [4], [7], [8], [10], [15],[17], [21]]\n",
    "#plot the dendrogram \n",
    "plt.figure(figsize=(10, 7))\n",
    "dendrogram(linked,orientation='top',labels=labelList,distance_sort='descending',show_leaf_counts=True)\n",
    "plt.show()"
   ]
  },
  {
   "cell_type": "markdown",
   "metadata": {},
   "source": [
    "## Exemple 06 "
   ]
  },
  {
   "cell_type": "code",
   "execution_count": 194,
   "metadata": {
    "scrolled": true
   },
   "outputs": [
    {
     "name": "stderr",
     "output_type": "stream",
     "text": [
      "/home/depinfo/anaconda3/lib/python3.7/site-packages/ipykernel_launcher.py:8: RuntimeWarning: Explicit initial center position passed: performing only one init in k-means instead of n_init=10\n",
      "  \n"
     ]
    },
    {
     "data": {
      "text/plain": [
       "array([2, 0, 0, 0, 0, 0, 0, 0, 0, 0, 1])"
      ]
     },
     "execution_count": 194,
     "metadata": {},
     "output_type": "execute_result"
    }
   ],
   "source": [
    "#EXEMPLE 06 \n",
    "import numpy as np\n",
    "#Define the dataset Z \n",
    "Z = np.array([[11], [21], [22], [23], [26], [27], [28], [33],[35], [37], [47]])\n",
    "#import Kmeans cluster for to do Kmeans clustering on the dataset \n",
    "from sklearn.cluster import KMeans\n",
    "kmeans = KMeans(n_clusters=3, init=np.array([[1], [2], [3]]))\n",
    "kmeans.fit(Z)\n",
    "kmeans.cluster_centers_\n",
    "kmeans.labels_\n",
    "from sklearn.cluster import AgglomerativeClustering\n",
    "#Using for the same dataset another method of clustering whitch is Agglomerative Clustering whitch consist \n",
    "#On Recursively merges the pair of clusters that minimally increases a given linkage distance.\n",
    "cluster = AgglomerativeClustering(n_clusters=3, linkage='single')\n",
    "#fit the model \n",
    "cluster.fit(Z)\n",
    "cluster.labels_"
   ]
  },
  {
   "cell_type": "markdown",
   "metadata": {},
   "source": [
    "## Exemple 07 "
   ]
  },
  {
   "cell_type": "code",
   "execution_count": 203,
   "metadata": {},
   "outputs": [
    {
     "data": {
      "image/png": "[encoded data removed]",
      "text/plain": [
       "<Figure size 432x288 with 1 Axes>"
      ]
     },
     "metadata": {
      "needs_background": "light"
     },
     "output_type": "display_data"
    },
    {
     "data": {
      "image/png": "[encoded data removed]",
      "text/plain": [
       "<Figure size 432x288 with 1 Axes>"
      ]
     },
     "metadata": {
      "needs_background": "light"
     },
     "output_type": "display_data"
    },
    {
     "data": {
      "text/plain": [
       "0.7302382722834697"
      ]
     },
     "execution_count": 203,
     "metadata": {},
     "output_type": "execute_result"
    }
   ],
   "source": [
    "import pandas as pd\n",
    "import numpy as np\n",
    "import sklearn.metrics as sm\n",
    "import matplotlib.pyplot as plt\n",
    "from sklearn.cluster import KMeans\n",
    "from sklearn import datasets\n",
    "from sklearn import metrics\n",
    "#download the dataset \n",
    "iris = datasets.load_iris()\n",
    "#Data visualisation \n",
    "print(iris)\n",
    "print(iris.data)\n",
    "print(iris.feature_names)\n",
    "print(iris.target)\n",
    "print(iris.target_names)\n",
    "\n",
    "#Split data into train and test data \n",
    "x=pd.DataFrame(iris.data)\n",
    "x.columns=['Sepal_Length','Sepal_width','Petal_Length','Petal_width']\n",
    "y=pd.DataFrame(iris.target)\n",
    "y.columns=['Targets']\n",
    "#Define our Kmeans model \n",
    "model=KMeans(n_clusters=3)\n",
    "model.fit(x)\n",
    "\n",
    "colormap=np.array(['r','g','b'])\n",
    "# parameters of scatter : s = scalar or array-like, c = color \n",
    "plt.scatter(x.Petal_Length, x.Petal_width,c=colormap[y.Targets],s=40)\n",
    "plt.show()\n",
    "plt.scatter(x.Petal_Length, x.Petal_width,c=colormap[model.labels_],s=40)\n",
    "plt.show()\n",
    "#The Rand Index computes a similarity measure between two clusterings by considering all pairs of samples and counting pairs that \n",
    "#are assigned in the same or different clusters in the predicted and true clusterings.\n",
    "metrics.adjusted_rand_score(model.labels_, y.Targets)"
   ]
  },
  {
   "cell_type": "markdown",
   "metadata": {},
   "source": [
    "# PART II"
   ]
  },
  {
   "cell_type": "markdown",
   "metadata": {},
   "source": [
    "## EXERCICE 01"
   ]
  },
  {
   "cell_type": "code",
   "execution_count": 124,
   "metadata": {
    "scrolled": true
   },
   "outputs": [
    {
     "name": "stdout",
     "output_type": "stream",
     "text": [
      "tic tac toe Dataset : Average Accuracy is  73.68567251461988  \t\t For max_Depth = 3\n",
      "Car dataset : Average Accuracy is          76.16056941486663  \t\t For max_Depth = 3 \n",
      "\n",
      "tic tac toe Dataset : Average Accuracy is  76.9298245614035  \t\t For max_Depth = 4\n",
      "Car dataset : Average Accuracy is          81.20833333333334  \t\t For max_Depth = 4 \n",
      "\n",
      "tic tac toe Dataset : Average Accuracy is  79.75219298245614  \t\t For max_Depth = 5\n",
      "Car dataset : Average Accuracy is          79.74451754385964  \t\t For max_Depth = 5 \n",
      "\n",
      "tic tac toe Dataset : Average Accuracy is  84.86622807017542  \t\t For max_Depth = 6\n",
      "Car dataset : Average Accuracy is          80.26425438596493  \t\t For max_Depth = 6 \n",
      "\n",
      "tic tac toe Dataset : Average Accuracy is  84.97039473684211  \t\t For max_Depth = 7\n",
      "Car dataset : Average Accuracy is          80.78179824561404  \t\t For max_Depth = 7 \n",
      "\n",
      "tic tac toe Dataset : Average Accuracy is  85.38486842105264  \t\t For max_Depth = 8\n",
      "Car dataset : Average Accuracy is          79.84320175438596  \t\t For max_Depth = 8 \n",
      "\n",
      "tic tac toe Dataset : Average Accuracy is  85.28179824561403  \t\t For max_Depth = 9\n",
      "Car dataset : Average Accuracy is          80.05153508771929  \t\t For max_Depth = 9 \n",
      "\n",
      "tic tac toe Dataset : Average Accuracy is  85.38706140350877  \t\t For max_Depth = 10\n",
      "Car dataset : Average Accuracy is          79.84320175438596  \t\t For max_Depth = 10 \n",
      "\n"
     ]
    },
    {
     "data": {
      "image/png": "[encoded data removed]",
      "text/plain": [
       "<Figure size 432x288 with 1 Axes>"
      ]
     },
     "metadata": {
      "needs_background": "light"
     },
     "output_type": "display_data"
    }
   ],
   "source": [
    "\n",
    "from sklearn.preprocessing import LabelEncoder \n",
    "import numpy as np\n",
    "import numpy as np\n",
    "import pandas as pd\n",
    "from sklearn.model_selection import train_test_split\n",
    "from sklearn.tree import DecisionTreeClassifier\n",
    "from sklearn.metrics import accuracy_score\n",
    "from sklearn import tree\n",
    "import matplotlib.pyplot as plt\n",
    "...\n",
    "from sklearn.model_selection import KFold\n",
    "import numpy as np\n",
    "...\n",
    "from sklearn.model_selection import KFold\n",
    "\n",
    "tic_tac_data = pd.read_csv('/home/depinfo/TD_DataMining/tic-tac-toe.data', sep= ',', header= None)\n",
    "#Encoding the dataset, with replacing categorical data with numerical data \n",
    "tic_tac_data = tic_tac_data.replace({'x', 'o', 'b'}, {int(1), int(2), int(3)})\n",
    "\n",
    "#split data\n",
    "X = tic_tac_data.values[:, 0:8]\n",
    "Y = tic_tac_data.values[:,9]\n",
    "#Encoding the last column : positive = 1 and negative = 0\n",
    "labelencoder_Y = LabelEncoder()\n",
    "Y = labelencoder_Y.fit_transform(Y)  \n",
    "\n",
    "car = pd.read_csv('/home/depinfo/TD_DataMining/car.data', sep= ',', header= None)\n",
    "car = car.replace({'low', 'med', 'high', 'vhigh','5more'}, {1,2,3,4,5})\n",
    "car = car.replace({'small','more','big',}, {1,3,5})\n",
    "\n",
    "Xc = car.values[:, 0:5]\n",
    "Yc = car.values[:, 6]\n",
    "\n",
    "X_train, X_test, y_train, y_test = train_test_split( X, Y, test_size = 0.3)\n",
    "Xc_train, Xc_test, yc_train, yc_test = train_test_split( Xc, Yc, test_size = 0.3)\n",
    "\n",
    "Maxd = 3\n",
    "kfold = KFold(10, True, 10)\n",
    "\n",
    "for Maxd in range(3,11):\n",
    "    ac_score = 0.0\n",
    "    ac_score_car = 0.0\n",
    "    ac = 0.0\n",
    "    ac_car = 0.0\n",
    "    for train, test in kfold.split(X):\n",
    "        \n",
    "        \n",
    "        clf_entropy_tt = DecisionTreeClassifier(criterion =\"entropy\",   max_depth=Maxd,min_samples_leaf=5)\n",
    "        clf_entropy_car = DecisionTreeClassifier(criterion =\"entropy\",   max_depth=Maxd,min_samples_leaf=5)\n",
    "\n",
    "        clf_entropy_tt.fit(X_train, y_train)\n",
    "        clf_entropy_car.fit(Xc_train, yc_train)\n",
    "        \n",
    "        y_pred_en = clf_entropy_tt.predict(X_test)\n",
    "        yc_pred_en = clf_entropy_car.predict(Xc_test)\n",
    "        \n",
    "        ac_score=accuracy_score(y_test,y_pred_en)*100\n",
    "        ac_score_car=accuracy_score(yc_test,yc_pred_en)*100\n",
    "        \n",
    "        #print (\"Accuracy is  \",ac_score , \"\\t For max_Depth = \", Maxd)\n",
    "        X_train, X_test, y_train, y_test = X[train], X[test], Y[train], Y[test]\n",
    "        Xc_train, Xc_test, yc_train, yc_test = Xc[train], Xc[test], Yc[train], Yc[test]\n",
    "\n",
    "        ac=ac+ac_score\n",
    "        ac_car = ac_car + ac_score_car\n",
    "       \n",
    "        ac_avg=ac/10\n",
    "        ac_avg_car = ac_car/10\n",
    "        \n",
    "    print (\"tic tac toe Dataset : Average Accuracy is \", ac_avg, \" \\t\\t For max_Depth =\",Maxd )\n",
    "    print (\"Car dataset : Average Accuracy is         \", ac_avg_car, \" \\t\\t For max_Depth =\",Maxd,\"\\n\")\n",
    "\n",
    "\n",
    "plt.plot([3, 4, 5, 6, 7, 8, 9, 10], [73.58, 76.929, 79.752, 84.866,84.970, 85.383, 85.388, 85.0723],label=\"Tic tac toe\")\n",
    "plt.plot([3, 4, 5, 6, 7, 8, 9, 10], [75.871,81.208, 79.744,80.055,80.573,80.051, 80.051, 80.051], label=\"Car\")\n",
    "plt.title(\"ACCURACY VARIATION OVER MAX_DEPTH FOR car AND tic tac toe datasets\")\n",
    "plt.legend(bbox_to_anchor=(1.05, 1), loc='upper left', borderaxespad=0.)\n",
    "plt.show()"
   ]
  },
  {
   "cell_type": "markdown",
   "metadata": {},
   "source": [
    "## Exercice 02"
   ]
  },
  {
   "cell_type": "code",
   "execution_count": 202,
   "metadata": {},
   "outputs": [
    {
     "name": "stdout",
     "output_type": "stream",
     "text": [
      "Accuracy for  10.0 %  is    72.91666666666666\n",
      "Accuracy for  25.0 %  is    75.41666666666667\n",
      "Accuracy for  33.0 %  is    71.29337539432177\n",
      "Accuracy for  50.0 %  is    73.06889352818372\n",
      "Accuracy for  66.0 %  is    70.45813586097947\n",
      "Accuracy for  75.0 %  is    70.9318497913769\n",
      "Accuracy for  100 %  is    100.0\n"
     ]
    }
   ],
   "source": [
    "import numpy as np\n",
    "import pandas as pd\n",
    "from sklearn.model_selection import train_test_split\n",
    "from sklearn.tree import DecisionTreeClassifier\n",
    "from sklearn.metrics import accuracy_score\n",
    "from sklearn import tree\n",
    "\n",
    "tic_tac_data = pd.read_csv('/home/depinfo/TD_DataMining/tic-tac-toe.data', sep= ',', header= None)\n",
    "#Encoding the dataset, with replacing categorical data with numerical data \n",
    "tic_tac_data = tic_tac_data.replace({'x', 'o', 'b'}, {int(1), int(2), int(3)})\n",
    "\n",
    "#split data\n",
    "X = tic_tac_data.values[:, 0:8]\n",
    "Y = tic_tac_data.values[:,9]\n",
    "#Encoding the last column : positive = 1 and negative = 0\n",
    "labelencoder_Y = LabelEncoder()\n",
    "Y = labelencoder_Y.fit_transform(Y)  \n",
    "\n",
    "liste = [0.1,0.25,0.33,0.5,0.66,0.75,1]\n",
    "for size in liste:\n",
    "    X_train, X_test, y_train, y_test = train_test_split( X, Y, test_size = size)\n",
    "    clf_entropy = DecisionTreeClassifier(criterion = \"entropy\",  max_depth=3,min_samples_leaf=5)\n",
    "    clf_entropy.fit(X_train, y_train)\n",
    "    y_pred_en = clf_entropy.predict(X_test)\n",
    "    print (\"Accuracy for \", size*100,'%',\" is   \", accuracy_score(y_test,y_pred_en)*100)"
   ]
  },
  {
   "cell_type": "raw",
   "metadata": {},
   "source": [
    "1) Does it exist relationships between the size of training data and the classifier accuracy? With somegraphical representations, explain your observations: \n",
    "Yes there is a relationship between the size of training data and the classifier accuracy, because is we choose to train 100 % of the data, we will have 100 % of accuracy because we don't test these model so we can't know if it work or not. We constat that the size of training data is really import to know the performance of the model."
   ]
  },
  {
   "cell_type": "markdown",
   "metadata": {},
   "source": [
    "## EXERCICE 03"
   ]
  },
  {
   "cell_type": "code",
   "execution_count": 176,
   "metadata": {
    "scrolled": true
   },
   "outputs": [
    {
     "data": {
      "image/png": "[encoded data removed]",
      "text/plain": [
       "<Figure size 720x504 with 1 Axes>"
      ]
     },
     "metadata": {
      "needs_background": "light"
     },
     "output_type": "display_data"
    },
    {
     "data": {
      "image/png": "[encoded data removed]",
      "text/plain": [
       "<Figure size 720x504 with 1 Axes>"
      ]
     },
     "metadata": {
      "needs_background": "light"
     },
     "output_type": "display_data"
    },
    {
     "data": {
      "image/png": "[encoded data removed]",
      "text/plain": [
       "<Figure size 720x504 with 1 Axes>"
      ]
     },
     "metadata": {
      "needs_background": "light"
     },
     "output_type": "display_data"
    }
   ],
   "source": [
    "from sklearn.cluster import AgglomerativeClustering\n",
    "import matplotlib\n",
    "import matplotlib.pyplot as plt\n",
    "from scipy.cluster.hierarchy import dendrogram, linkage\n",
    "\n",
    "Z = np.array([[11], [21], [22], [23], [26], [27], [28], [33],[35], [37], [47]])\n",
    "\n",
    "cluster = AgglomerativeClustering(n_clusters=3)\n",
    "cluster.fit(Z)\n",
    "cluster.labels_\n",
    "################################# LINKAGE METHOD : Single #################################################\n",
    "plt.figure(figsize=(10, 7))\n",
    "linked = linkage(Z, 'single')\n",
    "dendrogram(linked,orientation='top',labels=cluster.labels_,distance_sort='descending',show_leaf_counts=True)\n",
    "plt.show()\n",
    "\n",
    "################################# LINKAGE METHOD : complete #################################################\n",
    "plt.figure(figsize=(10, 7))\n",
    "linked = linkage(Z, 'complete')\n",
    "dendrogram(linked,orientation='top',labels=cluster.labels_,distance_sort='descending',show_leaf_counts=True)\n",
    "plt.show()\n",
    "\n",
    "################################# LINKAGE METHOD : Average #################################################\n",
    "plt.figure(figsize=(10, 7))\n",
    "linked = linkage(Z, 'average')\n",
    "dendrogram(linked,orientation='top',labels=cluster.labels_,distance_sort='descending',show_leaf_counts=True)\n",
    "plt.show()\n",
    "\n",
    "\n"
   ]
  },
  {
   "cell_type": "markdown",
   "metadata": {},
   "source": [
    "## Exercice 04 "
   ]
  },
  {
   "cell_type": "raw",
   "metadata": {},
   "source": [
    "The difference between the two dataset Y and Z \n",
    "-- Hierarchical clustering can’t handle big data well but K Means clustering can. \n",
    "-- In K Means clustering, since we start with random choice of clusters, the results produced by running the algorithm multiple times might differ. While results are reproducible in Hierarchical clustering."
   ]
  },
  {
   "cell_type": "markdown",
   "metadata": {},
   "source": [
    "## Exercice 05 "
   ]
  },
  {
   "cell_type": "code",
   "execution_count": 191,
   "metadata": {},
   "outputs": [
    {
     "name": "stdout",
     "output_type": "stream",
     "text": [
      "************** USING AGGLOMERATIVE CLUSTERING  ************** \n",
      "\n",
      "performance with single linkage is  0.5637510205230709\n",
      "performance wth complete linkage is  0.64225125183629\n",
      "performance with average linkage is  0.7591987071071522\n",
      "performance with ward linkage is  0.7311985567707745 \n",
      "\n",
      "************** USING K MEANS  ************** \n",
      "\n",
      "Performance with using K means is :  0.7302382722834697\n"
     ]
    }
   ],
   "source": [
    "# USING AGGLOMERATIVE CLUSTERING \n",
    "\n",
    "from sklearn.cluster import AgglomerativeClustering\n",
    "import matplotlib\n",
    "import matplotlib.pyplot as plt\n",
    "from scipy.cluster.hierarchy import dendrogram, linkage\n",
    "\n",
    "x=pd.DataFrame(iris.data)\n",
    "x.columns=['Sepal_Length','Sepal_width','Petal_Length','Petal_width']\n",
    "y=pd.DataFrame(iris.target)\n",
    "y.columns=['Targets']\n",
    "\n",
    "print( '************** USING AGGLOMERATIVE CLUSTERING  ************** \\n')\n",
    "################################# LINKAGE METHOD : Single #################################################\n",
    "model=AgglomerativeClustering(n_clusters=3, linkage='single')\n",
    "model.fit(x)\n",
    "print( 'performance with single linkage is ', metrics.adjusted_rand_score(model.labels_,y.Targets ))\n",
    "\n",
    "################################# LINKAGE METHOD : Complete #################################################\n",
    "model=AgglomerativeClustering(n_clusters=3, linkage='complete')\n",
    "model.fit(x)\n",
    "print( 'performance wth complete linkage is ', metrics.adjusted_rand_score(model.labels_,y.Targets ))\n",
    "\n",
    "################################# LINKAGE METHOD : Average #################################################\n",
    "model=AgglomerativeClustering(n_clusters=3, linkage='average')\n",
    "model.fit(x)\n",
    "print( 'performance with average linkage is ', metrics.adjusted_rand_score(model.labels_,y.Targets ))\n",
    "\n",
    "################################# LINKAGE METHOD : Ward #################################################\n",
    "model=AgglomerativeClustering(n_clusters=3, linkage='ward')\n",
    "model.fit(x)\n",
    "print( 'performance with ward linkage is ', metrics.adjusted_rand_score(model.labels_,y.Targets ),'\\n')\n",
    "\n",
    "\n",
    "#USING K MEANS  \n",
    "\n",
    "import pandas as pd\n",
    "import numpy as np\n",
    "import sklearn.metrics as sm\n",
    "import matplotlib.pyplot as plt\n",
    "from sklearn.cluster import KMeans\n",
    "from sklearn import datasets\n",
    "from sklearn import metrics\n",
    "iris = datasets.load_iris()\n",
    "x=pd.DataFrame(iris.data)\n",
    "x.columns=['Sepal_Length','Sepal_width','Petal_Length','Petal_width']\n",
    "y=pd.DataFrame(iris.target)\n",
    "y.columns=['Targets']\n",
    "model=KMeans(n_clusters=3)\n",
    "model.fit(x)\n",
    "\n",
    "\n",
    "print( '************** USING K MEANS  ************** \\n')\n",
    "print('Performance with using K means is : ',metrics.adjusted_rand_score(model.labels_, y.Targets))\n",
    "\n"
   ]
  },
  {
   "cell_type": "raw",
   "metadata": {},
   "source": [
    "1) We deduces that the agglomerative clustering using single and complete linkage are less performant that the cluster using average or ward cluster.\n",
    "Then the AGGLOMERATIVE CLUSTERING with ward linkage is more perfomant than K means.\n"
   ]
  },
  {
   "cell_type": "code",
   "execution_count": null,
   "metadata": {},
   "outputs": [],
   "source": []
  }
 ],
 "metadata": {
  "kernelspec": {
   "display_name": "Python 3",
   "language": "python",
   "name": "python3"
  },
  "language_info": {
   "codemirror_mode": {
    "name": "ipython",
    "version": 3
   },
   "file_extension": ".py",
   "mimetype": "text/x-python",
   "name": "python",
   "nbconvert_exporter": "python",
   "pygments_lexer": "ipython3",
   "version": "3.7.3"
  }
 },
 "nbformat": 4,
 "nbformat_minor": 4
}
